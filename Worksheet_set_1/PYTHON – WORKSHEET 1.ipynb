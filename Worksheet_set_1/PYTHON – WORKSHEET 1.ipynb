{
 "cells": [
  {
   "cell_type": "markdown",
   "id": "df1786b3",
   "metadata": {},
   "source": [
    "PYTHON – WORKSHEET 1"
   ]
  },
  {
   "cell_type": "markdown",
   "id": "a2f62a95",
   "metadata": {},
   "source": [
    "<b>Q1 to Q8 have only one correct answer. Choose the correct option to answer your question.</b>\n",
    "1. Which of the following operators is used to calculate remainder in a division?\n",
    "A) # B) &\n",
    "C) % D) $\n",
    "<br>\n",
    "Answer: C) %"
   ]
  },
  {
   "cell_type": "markdown",
   "id": "21036cd5",
   "metadata": {
    "ExecuteTime": {
     "end_time": "2023-05-16T12:54:10.951017Z",
     "start_time": "2023-05-16T12:54:10.929981Z"
    }
   },
   "source": [
    "2. In python 2//3 is equal to?\n",
    "A) 0.666 B) 0\n",
    "C) 1 D) 0.67\n",
    "<br>\n",
    "Answer: B) 0"
   ]
  },
  {
   "cell_type": "markdown",
   "id": "dfd79aba",
   "metadata": {},
   "source": [
    "3. In python, 6<<2 is equal to?\n",
    "A) 36 B) 10\n",
    "C) 24 D) 45\n",
    "<br>\n",
    "Answer: C) 24"
   ]
  },
  {
   "cell_type": "markdown",
   "id": "50928c2f",
   "metadata": {},
   "source": [
    "4. In python, 6&2 will give which of the following as output?\n",
    "A) 2 B) True\n",
    "C) False D) 0\n",
    "<br>\n",
    "Answer: A) 2"
   ]
  },
  {
   "cell_type": "markdown",
   "id": "4fe85e78",
   "metadata": {},
   "source": [
    "5. In python, 6|2 will give which of the following as output?\n",
    "A) 2 B) 4\n",
    "C) 0 D) 6\n",
    "<br>\n",
    "Answer: D) 6"
   ]
  },
  {
   "cell_type": "markdown",
   "id": "21da5d49",
   "metadata": {},
   "source": [
    "6. What does the finally keyword denotes in python?\n",
    "A) It is used to mark the end of the code\n",
    "B) It encloses the lines of code which will be executed if any error occurs while executing the lines of code in \n",
    "the try block.\n",
    "C) the finally block will be executed no matter if the try block raises an error or not.\n",
    "D) None of the above\n",
    "<br>\n",
    "Answer: C) the finally block will be executed no matter if the try block raises an error or not."
   ]
  },
  {
   "cell_type": "markdown",
   "id": "a9884874",
   "metadata": {},
   "source": [
    "7. What does raise keyword is used for in python?\n",
    "A) It is used to raise an exception. B) It is used to define lambda function\n",
    "C) it's not a keyword in python. D) None of the above\n",
    "<br>\n",
    "Answer: A) It is used to raise an exception"
   ]
  },
  {
   "cell_type": "markdown",
   "id": "8b0c9246",
   "metadata": {},
   "source": [
    "8. Which of the following is a common use case of yield keyword in python?\n",
    "A) in defining an iterator B) while defining a lambda function\n",
    "C) in defining a generator D) in for loop.\n",
    "<br>\n",
    "Answer: C) in defining a generator "
   ]
  },
  {
   "cell_type": "markdown",
   "id": "1c2f6d7e",
   "metadata": {},
   "source": [
    "<b>Q9 and Q10 have multiple correct answers. Choose all the correct options to answer your question.</b>\n",
    "<br>\n",
    "<br>\n",
    "9. Which of the following are the valid variable names?\n",
    "A) _abc B) 1abc\n",
    "C) abc2 D) None of the above\n",
    "<br>\n",
    "Answer: A) _abc \n",
    "               C) abc2"
   ]
  },
  {
   "cell_type": "markdown",
   "id": "ca3700e1",
   "metadata": {},
   "source": [
    "10. Which of the following are the keywords in python?\n",
    "A) yield B) raise\n",
    "C) look-in D) all of the above\n",
    "<br>\n",
    "Answer: A) yield B) raise"
   ]
  },
  {
   "cell_type": "markdown",
   "id": "606d5c50",
   "metadata": {
    "ExecuteTime": {
     "end_time": "2023-05-16T12:57:18.908605Z",
     "start_time": "2023-05-16T12:57:18.900606Z"
    }
   },
   "source": [
    "11. Write a python program to find the factorial of a number."
   ]
  },
  {
   "cell_type": "code",
   "execution_count": 6,
   "id": "fd2d7fa8",
   "metadata": {
    "ExecuteTime": {
     "end_time": "2023-05-16T13:05:29.975947Z",
     "start_time": "2023-05-16T13:05:25.305057Z"
    }
   },
   "outputs": [
    {
     "name": "stdout",
     "output_type": "stream",
     "text": [
      "Enter a number: 5\n",
      "The factorial of 5 is 120\n"
     ]
    }
   ],
   "source": [
    "def factorial(n):\n",
    "    if n == 0 or n == 1:\n",
    "        return 1\n",
    "    else:\n",
    "        return n * factorial(n - 1)\n",
    "\n",
    "number = int(input(\"Enter a number: \"))\n",
    "result = factorial(number)\n",
    "print(\"The factorial of\", number, \"is\", result)"
   ]
  },
  {
   "cell_type": "markdown",
   "id": "3b1d3f9d",
   "metadata": {},
   "source": [
    "12. Write a python program to find whether a number is prime or composite."
   ]
  },
  {
   "cell_type": "code",
   "execution_count": 8,
   "id": "fc51977d",
   "metadata": {
    "ExecuteTime": {
     "end_time": "2023-05-16T13:09:42.590165Z",
     "start_time": "2023-05-16T13:09:40.529056Z"
    }
   },
   "outputs": [
    {
     "name": "stdout",
     "output_type": "stream",
     "text": [
      "Enter a number: 2\n",
      "2 is a prime number.\n"
     ]
    }
   ],
   "source": [
    "def is_prime(num):\n",
    "    if num <= 1:\n",
    "        return False\n",
    "    for i in range(2, int(num**0.5) + 1):\n",
    "        if num % i == 0:\n",
    "            return False\n",
    "    return True\n",
    "\n",
    "num = int(input(\"Enter a number: \"))\n",
    "\n",
    "if is_prime(num):\n",
    "    print(num, \"is a prime number.\")\n",
    "else:\n",
    "    print(num, \"is a composite number.\")"
   ]
  },
  {
   "cell_type": "markdown",
   "id": "272f7c9b",
   "metadata": {},
   "source": [
    "13. Write a python program to check whether a given string is palindrome or not"
   ]
  },
  {
   "cell_type": "code",
   "execution_count": 9,
   "id": "f261c997",
   "metadata": {
    "ExecuteTime": {
     "end_time": "2023-05-16T13:15:12.645931Z",
     "start_time": "2023-05-16T13:14:37.030539Z"
    }
   },
   "outputs": [
    {
     "name": "stdout",
     "output_type": "stream",
     "text": [
      "Enter a string: madam\n",
      "The string is a palindrome.\n"
     ]
    }
   ],
   "source": [
    "def is_palindrome(string):\n",
    "    string = string.lower()  # Convert string to lowercase for case-insensitive comparison\n",
    "    reversed_string = string[::-1]  # Reverse the string using slicing\n",
    "    if string == reversed_string:\n",
    "        return True\n",
    "    else:\n",
    "        return False\n",
    "\n",
    "input_string = input(\"Enter a string: \")\n",
    "\n",
    "if is_palindrome(input_string):\n",
    "    print(\"The string is a palindrome.\")\n",
    "else:\n",
    "    print(\"The string is not a palindrome.\")"
   ]
  },
  {
   "cell_type": "markdown",
   "id": "93fc773f",
   "metadata": {},
   "source": [
    "14. Write a Python program to get the third side of right-angled triangle from two given sides.\n"
   ]
  },
  {
   "cell_type": "code",
   "execution_count": 10,
   "id": "9721f77f",
   "metadata": {
    "ExecuteTime": {
     "end_time": "2023-05-16T13:17:11.617408Z",
     "start_time": "2023-05-16T13:17:07.336763Z"
    }
   },
   "outputs": [
    {
     "name": "stdout",
     "output_type": "stream",
     "text": [
      "Enter the length of the first side: 3\n",
      "Enter the length of the second side: 4\n",
      "The length of the third side is: 5.0\n"
     ]
    }
   ],
   "source": [
    "import math\n",
    "\n",
    "def find_third_side(side1, side2):\n",
    "    third_side = math.sqrt(side1**2 + side2**2)\n",
    "    return third_side\n",
    "\n",
    "side1 = float(input(\"Enter the length of the first side: \"))\n",
    "side2 = float(input(\"Enter the length of the second side: \"))\n",
    "\n",
    "third_side = find_third_side(side1, side2)\n",
    "print(\"The length of the third side is:\", third_side)"
   ]
  },
  {
   "cell_type": "markdown",
   "id": "92404958",
   "metadata": {},
   "source": [
    "15. Write a python program to print the frequency of each of the characters present in a given string."
   ]
  },
  {
   "cell_type": "code",
   "execution_count": 11,
   "id": "33d4873b",
   "metadata": {
    "ExecuteTime": {
     "end_time": "2023-05-16T13:18:03.127460Z",
     "start_time": "2023-05-16T13:17:53.206040Z"
    }
   },
   "outputs": [
    {
     "name": "stdout",
     "output_type": "stream",
     "text": [
      "Enter a string: Brother\n",
      "Character frequency:\n",
      "B : 1\n",
      "r : 2\n",
      "o : 1\n",
      "t : 1\n",
      "h : 1\n",
      "e : 1\n"
     ]
    }
   ],
   "source": [
    "def count_character_frequency(string):\n",
    "    frequency = {}\n",
    "    for char in string:\n",
    "        if char in frequency:\n",
    "            frequency[char] += 1\n",
    "        else:\n",
    "            frequency[char] = 1\n",
    "    return frequency\n",
    "\n",
    "input_string = input(\"Enter a string: \")\n",
    "\n",
    "character_frequency = count_character_frequency(input_string)\n",
    "print(\"Character frequency:\")\n",
    "for char, freq in character_frequency.items():\n",
    "    print(char, \":\", freq)"
   ]
  }
 ],
 "metadata": {
  "kernelspec": {
   "display_name": "Python 3",
   "language": "python",
   "name": "python3"
  },
  "language_info": {
   "codemirror_mode": {
    "name": "ipython",
    "version": 3
   },
   "file_extension": ".py",
   "mimetype": "text/x-python",
   "name": "python",
   "nbconvert_exporter": "python",
   "pygments_lexer": "ipython3",
   "version": "3.8.8"
  },
  "toc": {
   "base_numbering": 1,
   "nav_menu": {},
   "number_sections": true,
   "sideBar": true,
   "skip_h1_title": false,
   "title_cell": "Table of Contents",
   "title_sidebar": "Contents",
   "toc_cell": false,
   "toc_position": {},
   "toc_section_display": true,
   "toc_window_display": false
  },
  "varInspector": {
   "cols": {
    "lenName": 16,
    "lenType": 16,
    "lenVar": 40
   },
   "kernels_config": {
    "python": {
     "delete_cmd_postfix": "",
     "delete_cmd_prefix": "del ",
     "library": "var_list.py",
     "varRefreshCmd": "print(var_dic_list())"
    },
    "r": {
     "delete_cmd_postfix": ") ",
     "delete_cmd_prefix": "rm(",
     "library": "var_list.r",
     "varRefreshCmd": "cat(var_dic_list()) "
    }
   },
   "types_to_exclude": [
    "module",
    "function",
    "builtin_function_or_method",
    "instance",
    "_Feature"
   ],
   "window_display": false
  }
 },
 "nbformat": 4,
 "nbformat_minor": 5
}
