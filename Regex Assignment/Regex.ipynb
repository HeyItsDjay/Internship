{
 "cells": [
  {
   "cell_type": "markdown",
   "id": "bf78b728",
   "metadata": {},
   "source": [
    "Regex Assigmnent\n"
   ]
  },
  {
   "cell_type": "code",
   "execution_count": null,
   "id": "2bf77d0f",
   "metadata": {
    "ExecuteTime": {
     "end_time": "2023-07-16T14:15:15.741308Z",
     "start_time": "2023-07-16T14:15:15.733277Z"
    }
   },
   "outputs": [],
   "source": [
    "import re\n",
    "import sys"
   ]
  },
  {
   "cell_type": "code",
   "execution_count": null,
   "id": "a46e7173",
   "metadata": {
    "ExecuteTime": {
     "end_time": "2023-07-16T14:15:16.002162Z",
     "start_time": "2023-07-16T14:15:15.994160Z"
    }
   },
   "outputs": [],
   "source": [
    "def get_input():\n",
    "    t = input()\n",
    "    if t == '':\n",
    "        print(\"Null String Entered\")\n",
    "        sys.exit()\n",
    "    else:\n",
    "        return t"
   ]
  },
  {
   "cell_type": "code",
   "execution_count": null,
   "id": "27b953e5",
   "metadata": {
    "ExecuteTime": {
     "end_time": "2023-07-16T14:15:16.203243Z",
     "start_time": "2023-07-16T14:15:16.191243Z"
    }
   },
   "outputs": [],
   "source": [
    "def purify(text):\n",
    "    return re.sub('[^A-Za-z0-9]+',' ', text)"
   ]
  },
  {
   "cell_type": "code",
   "execution_count": null,
   "id": "e6d6fc80",
   "metadata": {
    "ExecuteTime": {
     "end_time": "2023-07-16T14:15:16.922814Z",
     "start_time": "2023-07-16T14:15:16.914814Z"
    }
   },
   "outputs": [],
   "source": [
    "def remove_empty_strings(string):\n",
    "    return string != \"\""
   ]
  },
  {
   "cell_type": "markdown",
   "id": "3244de91",
   "metadata": {},
   "source": [
    "\n",
    "Question 1 - Write a Python program to check that a string contains only a certain set of characters (in this case a-z, A-Z and 0-9).\n"
   ]
  },
  {
   "cell_type": "code",
   "execution_count": null,
   "id": "1681b88f",
   "metadata": {},
   "outputs": [],
   "source": [
    "def Question1():\n",
    "    print(\"Enter the string\")\n",
    "    text = get_input() \n",
    "    try:\n",
    "        pattern = r'^[a-zA-Z0-9]+$'\n",
    "        # ^ - Matches the start of the string\n",
    "        # [a-zA-Z0-9] - Matches any alphanumeric character\n",
    "        # + - Matches one or more occurrences of the preceding pattern\n",
    "        # $ - Matches the end of the string\n",
    "\n",
    "        match = re.match(pattern, string)\n",
    "    except Exception as Err:\n",
    "        print(Err)\n",
    "    else:\n",
    "        return bool(match)"
   ]
  },
  {
   "cell_type": "markdown",
   "id": "af0eccb3",
   "metadata": {},
   "source": [
    "Question 2 - Create a function in python that matches 'a' string that has an a followed by zero or more b's"
   ]
  },
  {
   "cell_type": "code",
   "execution_count": null,
   "id": "6303e869",
   "metadata": {
    "ExecuteTime": {
     "end_time": "2023-07-09T07:52:15.564442Z",
     "start_time": "2023-07-09T07:52:15.556446Z"
    }
   },
   "outputs": [],
   "source": [
    "def Question2():\n",
    "    try:\n",
    "        string = get_input()\n",
    "        if string == '':\n",
    "            raise ValueError('Empty string')\n",
    "    except ValueError as e:\n",
    "        print(\"Please try again. Error:\", e)\n",
    "    else:\n",
    "        x = re.search(\"a0\", string)\n",
    "        y = re.search(\"a+b\", string)\n",
    "        if  x!= None and y != None:            \n",
    "            print(\"Match found for both 'a' following by a '0' and 'a' followed by more 'bs'\")\n",
    "        elif x == None and y!= None:\n",
    "            print(\"Match Found for\", y.group())\n",
    "        elif x != None and y== None:\n",
    "            print(\"Match Found for\", x.group())\n",
    "        else:\n",
    "            print(\"No Match Found!\")\n",
    "    return"
   ]
  },
  {
   "cell_type": "markdown",
   "id": "97e46c1b",
   "metadata": {},
   "source": [
    "Question 3 -  Create a function in python that matches a string that has an a followed by one or more b's"
   ]
  },
  {
   "cell_type": "code",
   "execution_count": null,
   "id": "1b6c9786",
   "metadata": {
    "ExecuteTime": {
     "end_time": "2023-07-09T08:04:20.001088Z",
     "start_time": "2023-07-09T08:04:19.987089Z"
    }
   },
   "outputs": [],
   "source": [
    "def Question3():\n",
    "    try:\n",
    "        string = get_input()\n",
    "        if string == '':\n",
    "            raise ValueError('Empty string')\n",
    "    except ValueError as e:\n",
    "        print(\"Please try again. Error:\", e)\n",
    "    else:\n",
    "        x = re.search(\"a+b\", string)\n",
    "        if  x!= None:            \n",
    "            print(\"Match Found for a followed by 1 or more bs\")\n",
    "        else:\n",
    "            print(\"No Match Found!\")\n",
    "    return"
   ]
  },
  {
   "cell_type": "markdown",
   "id": "576dfe00",
   "metadata": {
    "ExecuteTime": {
     "end_time": "2023-07-09T08:05:06.299427Z",
     "start_time": "2023-07-09T08:05:06.284428Z"
    }
   },
   "source": [
    "Question 4 - Create a function in Python and use RegEx that matches a string that has an a followed by zero or one 'b'."
   ]
  },
  {
   "cell_type": "code",
   "execution_count": null,
   "id": "475d80d6",
   "metadata": {
    "ExecuteTime": {
     "end_time": "2023-07-09T08:09:10.392240Z",
     "start_time": "2023-07-09T08:09:10.372240Z"
    }
   },
   "outputs": [],
   "source": [
    "def Question4():\n",
    "    try:\n",
    "        string = get_input()\n",
    "        if string == '':\n",
    "            raise ValueError('Empty string')\n",
    "    except ValueError as e:\n",
    "        print(\"Please try again. Error:\", e)\n",
    "    else:\n",
    "        x = re.search('a(b{0,1})', string)\n",
    "        if  x!= None:            \n",
    "            print(\"Match Found for: a followed by 0 or 1 b\")\n",
    "        else:\n",
    "            print(\"No Match Found!\")\n",
    "    return"
   ]
  },
  {
   "cell_type": "markdown",
   "id": "82e2da2f",
   "metadata": {
    "ExecuteTime": {
     "end_time": "2023-07-09T08:09:38.638707Z",
     "start_time": "2023-07-09T08:09:33.168927Z"
    }
   },
   "source": [
    "Question 5 - Write a Python program that matches a string that has an a followed by three 'b'."
   ]
  },
  {
   "cell_type": "code",
   "execution_count": null,
   "id": "1a45cd0d",
   "metadata": {
    "ExecuteTime": {
     "end_time": "2023-07-09T08:17:58.745901Z",
     "start_time": "2023-07-09T08:17:58.731899Z"
    }
   },
   "outputs": [],
   "source": [
    "def Question5():\n",
    "    try:\n",
    "        string = get_input()\n",
    "        if string == '':\n",
    "            raise ValueError('Empty string')\n",
    "    except ValueError as e:\n",
    "        print(\"Please try again. Error:\", e)\n",
    "    else:\n",
    "        x = re.search('abbb', string)\n",
    "        if  x!= None:            \n",
    "            print(\"Match Found for: a followed by 3 bs\")\n",
    "        else:\n",
    "            print(\"No Match Found!\")\n",
    "    return"
   ]
  },
  {
   "cell_type": "markdown",
   "id": "995da6f2",
   "metadata": {
    "ExecuteTime": {
     "end_time": "2023-07-09T08:18:26.884484Z",
     "start_time": "2023-07-09T08:18:22.108689Z"
    }
   },
   "source": [
    "Question 6 - Write a regular expression in Python to split a string into uppercase letters.\n",
    "<br>Sample text: “ImportanceOfRegularExpressionsInPython”\n",
    "<br>Output: [‘Importance’, ‘Of’, ‘Regular’, ‘Expression’, ‘In’, ‘Python’]"
   ]
  },
  {
   "cell_type": "code",
   "execution_count": null,
   "id": "211297fe",
   "metadata": {
    "ExecuteTime": {
     "end_time": "2023-07-09T08:25:49.529246Z",
     "start_time": "2023-07-09T08:25:49.522238Z"
    }
   },
   "outputs": [],
   "source": [
    "def Question6():\n",
    "    try:\n",
    "        string = get_input()\n",
    "        if string == '':\n",
    "            raise ValueError('Empty string')\n",
    "    except ValueError as e:\n",
    "        print(\"Please try again. Error:\", e)\n",
    "    else:\n",
    "        x = re.split('(?=[A-Z])', string)\n",
    "        return list(filter(None, x))"
   ]
  },
  {
   "cell_type": "markdown",
   "id": "d269632e",
   "metadata": {
    "ExecuteTime": {
     "end_time": "2023-07-09T08:26:10.649274Z",
     "start_time": "2023-07-09T08:26:02.734185Z"
    }
   },
   "source": [
    "Question 7 - Write a Python program that matches a string that has an a followed by two to three 'b'."
   ]
  },
  {
   "cell_type": "code",
   "execution_count": null,
   "id": "72b6c4b0",
   "metadata": {
    "ExecuteTime": {
     "end_time": "2023-07-09T08:27:32.500207Z",
     "start_time": "2023-07-09T08:27:32.490220Z"
    }
   },
   "outputs": [],
   "source": [
    "def Question7():\n",
    "    try:\n",
    "        string = get_input()\n",
    "        if string == '':\n",
    "            raise ValueError('Empty string')\n",
    "    except ValueError as e:\n",
    "        print(\"Please try again. Error:\", e)\n",
    "    else:\n",
    "        x = re.search('abb|abbb', string)\n",
    "        if  x!= None:            \n",
    "            print(\"Match Found for: a string that has an a followed by two to three 'b'.\")\n",
    "        else:\n",
    "            print(\"No Match Found!\")\n",
    "    return"
   ]
  },
  {
   "cell_type": "markdown",
   "id": "a21b5486",
   "metadata": {
    "ExecuteTime": {
     "end_time": "2023-07-09T08:28:20.345940Z",
     "start_time": "2023-07-09T08:28:20.326896Z"
    }
   },
   "source": [
    "Question 8- Write a Python program to find sequences of lowercase letters joined with a underscore."
   ]
  },
  {
   "cell_type": "code",
   "execution_count": null,
   "id": "3864ffdc",
   "metadata": {
    "ExecuteTime": {
     "end_time": "2023-07-09T09:11:55.525043Z",
     "start_time": "2023-07-09T09:11:55.515044Z"
    }
   },
   "outputs": [],
   "source": [
    "def Question8():\n",
    "    try:\n",
    "        string = get_input()\n",
    "        if string == '':\n",
    "            raise ValueError('Empty string')\n",
    "    except ValueError as e:\n",
    "        print(\"Please try again. Error:\", e)\n",
    "    else:\n",
    "        x = re.search('[a-z]_[a-z]', string)\n",
    "        if  x!= None:            \n",
    "            print(\"Match Found for: sequences of lowercase letters joined with a underscore.\")\n",
    "        else:\n",
    "            print(\"No Match Found!\")\n",
    "    return"
   ]
  },
  {
   "cell_type": "markdown",
   "id": "f8412f74",
   "metadata": {
    "ExecuteTime": {
     "end_time": "2023-07-09T09:11:59.453170Z",
     "start_time": "2023-07-09T09:11:55.714167Z"
    }
   },
   "source": [
    "Question 9 - Write a Python program that matches a string that has an 'a' followed by anything, ending in 'b'."
   ]
  },
  {
   "cell_type": "code",
   "execution_count": null,
   "id": "bdf568d1",
   "metadata": {
    "ExecuteTime": {
     "end_time": "2023-07-09T09:14:17.872171Z",
     "start_time": "2023-07-09T09:14:17.856172Z"
    }
   },
   "outputs": [],
   "source": [
    "def Question9():\n",
    "    try:\n",
    "        string = get_input()\n",
    "        if string == '':\n",
    "            raise ValueError('Empty string')\n",
    "    except ValueError as e:\n",
    "        print(\"Please try again. Error:\", e)\n",
    "    else:\n",
    "        x = re.search('a+.b', string)\n",
    "        if  x!= None:            \n",
    "            print(\"Match Found for a string that has an 'a' followed by anything, ending in 'b'\")\n",
    "        else:\n",
    "            print(\"No Match Found!\")\n",
    "    return"
   ]
  },
  {
   "cell_type": "markdown",
   "id": "aea2ef1c",
   "metadata": {
    "ExecuteTime": {
     "end_time": "2023-07-09T09:14:38.798474Z",
     "start_time": "2023-07-09T09:14:33.661235Z"
    }
   },
   "source": [
    "Question 10 - Write a Python program that matches a word at the beginning of a string."
   ]
  },
  {
   "cell_type": "code",
   "execution_count": null,
   "id": "5179df0d",
   "metadata": {
    "ExecuteTime": {
     "end_time": "2023-07-09T12:18:50.994284Z",
     "start_time": "2023-07-09T12:18:50.978286Z"
    }
   },
   "outputs": [],
   "source": [
    "def Question10():\n",
    "    try:\n",
    "        print(\"Enter a string to match the pattern\")\n",
    "        base_text = get_input()\n",
    "        print(\"Enter the substring to match in the beginning\")\n",
    "        match_text = get_input()\n",
    "        if base_text == '' or match_text == '':\n",
    "            raise ValueError('Empty string')\n",
    "    except ValueError as e:\n",
    "        print(\"Please try again. Error:\", e)\n",
    "    else:\n",
    "        pattern = \"^\"+match_text\n",
    "        x = re.search(pattern, base_text)\n",
    "        if  x!= None:            \n",
    "            print(\"Match Found for '\", match_text, \"'at the beginning of a string.\")\n",
    "        else:\n",
    "            print(\"No Match Found!\")\n",
    "    return"
   ]
  },
  {
   "cell_type": "markdown",
   "id": "6187d04f",
   "metadata": {
    "ExecuteTime": {
     "end_time": "2023-07-09T12:20:23.098460Z",
     "start_time": "2023-07-09T12:20:19.238414Z"
    }
   },
   "source": [
    "Question 11 - Write a Python program to match a string that contains only upper and lowercase letters, numbers, and underscores."
   ]
  },
  {
   "cell_type": "code",
   "execution_count": null,
   "id": "79ad3537",
   "metadata": {
    "ExecuteTime": {
     "end_time": "2023-07-09T12:28:00.278031Z",
     "start_time": "2023-07-09T12:28:00.271032Z"
    }
   },
   "outputs": [],
   "source": [
    "def Question11():\n",
    "    try:\n",
    "        print(\"Enter a string to match the pattern\")\n",
    "        text = get_input()\n",
    "        if text == '':\n",
    "            raise ValueError('Empty string')\n",
    "    except ValueError as e:\n",
    "        print(\"Please try again. Error:\", e)\n",
    "    else:\n",
    "        pattern = '[a-zA-Z0-9_]+$'\n",
    "        x = re.search(pattern, text)\n",
    "        if  x!= None:            \n",
    "            print(\"Match Found for: a string that contains only upper and lowercase letters, numbers, and underscores\")\n",
    "        else:\n",
    "            print(\"No Match Found!\")\n",
    "    return"
   ]
  },
  {
   "cell_type": "markdown",
   "id": "80d1eb2c",
   "metadata": {},
   "source": [
    "Question 12 - Write a Python program where a string will start with a specific number. "
   ]
  },
  {
   "cell_type": "code",
   "execution_count": null,
   "id": "366265ed",
   "metadata": {
    "ExecuteTime": {
     "end_time": "2023-07-09T12:37:40.119871Z",
     "start_time": "2023-07-09T12:37:40.111871Z"
    }
   },
   "outputs": [],
   "source": [
    "def Question12():\n",
    "    try:\n",
    "        print(\"Enter a string to match the pattern\")\n",
    "        text = get_input()\n",
    "        if text == '':\n",
    "            raise ValueError('Empty string')\n",
    "    except ValueError as e:\n",
    "        print(\"Please try again. Error:\", e)\n",
    "    else:\n",
    "        pattern = '^[0-9]'\n",
    "        x = re.search(pattern, text)\n",
    "        if  x!= None:            \n",
    "            print(\"Match Found for a string which will start with a specific number\")\n",
    "        else:\n",
    "            print(\"No Match Found!\")\n",
    "    return"
   ]
  },
  {
   "cell_type": "markdown",
   "id": "6651615e",
   "metadata": {
    "ExecuteTime": {
     "end_time": "2023-07-09T12:35:43.089544Z",
     "start_time": "2023-07-09T12:35:39.149869Z"
    }
   },
   "source": [
    "Question 13 - Write a Python program to remove leading zeros from an IP address"
   ]
  },
  {
   "cell_type": "code",
   "execution_count": null,
   "id": "2c8380c4",
   "metadata": {
    "ExecuteTime": {
     "end_time": "2023-07-09T14:47:53.597242Z",
     "start_time": "2023-07-09T14:47:53.584243Z"
    }
   },
   "outputs": [],
   "source": [
    "def Question13():\n",
    "    try:\n",
    "        print(\"Enter a string to match the pattern\")\n",
    "        ip_address = get_input()\n",
    "        if ip_address == '':\n",
    "            raise ValueError('Empty string')\n",
    "    except ValueError as e:\n",
    "        print(\"Please try again. Error:\", e)\n",
    "    else:\n",
    "        pattern = r'\\b0+(\\d)'\n",
    "        address = re.sub(pattern, r'\\1', ip_address)\n",
    "        return address\n",
    "    return"
   ]
  },
  {
   "cell_type": "markdown",
   "id": "213f4f59",
   "metadata": {
    "ExecuteTime": {
     "end_time": "2023-07-09T14:48:02.004186Z",
     "start_time": "2023-07-09T14:47:53.786668Z"
    }
   },
   "source": [
    "Question 14- Write a regular expression in python to match a date string in the form of Month name followed by day number and year stored in a text file.\n",
    "<br>Sample text : ' On August 15th 1947 that India was declared independent from British colonialism, and the reins of control were handed over to the leaders of the Country’.\n",
    "<br>Output- August 15th 1947\n",
    "<br>Hint- Use re.match() method here\n"
   ]
  },
  {
   "cell_type": "code",
   "execution_count": null,
   "id": "21efa8c8",
   "metadata": {
    "ExecuteTime": {
     "end_time": "2023-07-09T15:20:09.182385Z",
     "start_time": "2023-07-09T15:20:09.169383Z"
    }
   },
   "outputs": [],
   "source": [
    "def Question14():\n",
    "    try:\n",
    "        print(\"Enter a string\")\n",
    "        text = get_input()\n",
    "        if text == '':\n",
    "            raise ValueError('Empty string')\n",
    "    except ValueError as e:\n",
    "        print(\"Please try again. Error:\", e)\n",
    "    else:\n",
    "        pattern = r'\\b([A-Z][a-z]+ \\d+(?:st|nd|rd|th) \\d{4})\\b'\n",
    "        match = re.match(pattern, text)\n",
    "        if match:\n",
    "            return match.group(1)\n",
    "        else:\n",
    "            return None\n",
    "    return"
   ]
  },
  {
   "cell_type": "markdown",
   "id": "9b69f401",
   "metadata": {},
   "source": [
    "<b>Question 15</b> - Write a Python program to search some literals strings in a string. Go to the editor\n",
    "<br>Sample text: 'The quick brown fox jumps over the lazy dog.'\n",
    "<br>Searched words: 'fox', 'dog', 'horse'"
   ]
  },
  {
   "cell_type": "code",
   "execution_count": null,
   "id": "1e3af66f",
   "metadata": {
    "ExecuteTime": {
     "end_time": "2023-07-16T13:29:20.228094Z",
     "start_time": "2023-07-16T13:29:20.212093Z"
    }
   },
   "outputs": [],
   "source": [
    "def get_list_of_literal():\n",
    "    list_of_literals =['']\n",
    "    try:\n",
    "        while list_of_literals != []:\n",
    "            word = input(\"Enter a word to search for in the string or Press Enter to finish:\")\n",
    "            if word == '':\n",
    "                break\n",
    "            else:\n",
    "                list_of_literals.append(word)\n",
    "    except Exception as Err:\n",
    "        return Err\n",
    "    else: \n",
    "        filtered_list = filter(remove_empty_strings, list_of_literals)\n",
    "        return filtered_list"
   ]
  },
  {
   "cell_type": "code",
   "execution_count": null,
   "id": "f78b569f",
   "metadata": {
    "ExecuteTime": {
     "end_time": "2023-07-16T13:32:02.781300Z",
     "start_time": "2023-07-16T13:32:02.765261Z"
    }
   },
   "outputs": [],
   "source": [
    "def Question15():\n",
    "    print(\"Enter the string\")\n",
    "    text = get_input()    \n",
    "    list_of_literals = get_list_of_literal()\n",
    "    print()\n",
    "    try:\n",
    "        for literal in list_of_literals:\n",
    "            if re.search(literal, text) != None:\n",
    "                print(\"Found'\"+literal+\"'in\", text)\n",
    "            else:\n",
    "                print(literal.capitalize(), 'not found!')\n",
    "    except Exception as Err:\n",
    "        return Err\n",
    "    else:\n",
    "        return "
   ]
  },
  {
   "cell_type": "markdown",
   "id": "6b85b45a",
   "metadata": {
    "ExecuteTime": {
     "end_time": "2023-07-16T13:32:11.050625Z",
     "start_time": "2023-07-16T13:32:03.734283Z"
    }
   },
   "source": [
    "Question 16- Write a Python program to search a literals string in a string and also find the location within the original string where the pattern occurs\n",
    "<br>Sample text : 'The quick brown fox jumps over the lazy dog.'\n",
    "<br>Searched words : 'fox'"
   ]
  },
  {
   "cell_type": "code",
   "execution_count": null,
   "id": "ff1b87fa",
   "metadata": {
    "ExecuteTime": {
     "end_time": "2023-07-16T13:48:35.477910Z",
     "start_time": "2023-07-16T13:48:35.457910Z"
    }
   },
   "outputs": [],
   "source": [
    "def Question16():\n",
    "    print(\"Enter the string\")\n",
    "    text = get_input()    \n",
    "    list_of_literals = get_list_of_literal()\n",
    "    print()\n",
    "    try:\n",
    "        for literal in list_of_literals:\n",
    "            temp = re.search(literal, text)\n",
    "            if temp!= None:\n",
    "                print(\"Found'\"+literal+\"'in\", text, \"at\", temp.span())\n",
    "            else:\n",
    "                print(literal.capitalize(), 'not found!')\n",
    "    except Exception as Err:\n",
    "        return Err\n",
    "    else:\n",
    "        return "
   ]
  },
  {
   "cell_type": "markdown",
   "id": "b45c6a75",
   "metadata": {},
   "source": [
    "Question 17- Write a Python program to find the substrings within a string.\n",
    "<br>Sample text : 'Python exercises, PHP exercises, C# exercises'\n",
    "<br>Pattern : 'exercises'.\n"
   ]
  },
  {
   "cell_type": "code",
   "execution_count": null,
   "id": "efb9c5d0",
   "metadata": {
    "ExecuteTime": {
     "end_time": "2023-07-16T14:15:30.549380Z",
     "start_time": "2023-07-16T14:15:30.529337Z"
    }
   },
   "outputs": [],
   "source": [
    "def Question17():\n",
    "    print(\"Enter the string\")\n",
    "    text = purify(get_input()).lower()\n",
    "    print()\n",
    "    try:\n",
    "        list_of_words = list(set(text.split()))\n",
    "\n",
    "        for word in list_of_words:\n",
    "            if len(re.findall(word.lower(), text))>1:\n",
    "                if len(word)==1:\n",
    "                    pass\n",
    "                else:\n",
    "                    print(word.capitalize(),\"is a substring!\")\n",
    "            else:\n",
    "                pass\n",
    "    except Exception as Err:\n",
    "        print(\"Error\", Err)\n",
    "    else:\n",
    "        return"
   ]
  },
  {
   "cell_type": "markdown",
   "id": "bc86261c",
   "metadata": {
    "ExecuteTime": {
     "end_time": "2023-07-16T14:15:31.845261Z",
     "start_time": "2023-07-16T14:15:30.843319Z"
    }
   },
   "source": [
    "Question 18 - Write a Python program to find the occurrence and position of the substrings within a string."
   ]
  },
  {
   "cell_type": "code",
   "execution_count": null,
   "id": "3bba04d7",
   "metadata": {
    "ExecuteTime": {
     "end_time": "2023-07-16T14:38:04.887269Z",
     "start_time": "2023-07-16T14:38:04.867251Z"
    }
   },
   "outputs": [],
   "source": [
    "def Question18():\n",
    "    print(\"Enter the string\")\n",
    "    text = purify(get_input()).lower()\n",
    "    print()\n",
    "    try:\n",
    "        list_of_words = list(set(text.split()))\n",
    "        for word in list_of_words:\n",
    "            find = re.findall(word.lower(), text)\n",
    "            if len(find)>1:\n",
    "                if len(word)==1:\n",
    "                    pass\n",
    "                else:\n",
    "                    res = [i.start() for i in re.finditer(word.lower(), text)]\n",
    "                    print(word.capitalize(),\"is a substring occuring\", len(find), \"times at\", str(res))\n",
    "            else:\n",
    "                pass\n",
    "    except Exception as Err:\n",
    "        print(\"Error\", Err)\n",
    "    else:\n",
    "        return"
   ]
  },
  {
   "cell_type": "markdown",
   "id": "4c921b84",
   "metadata": {},
   "source": [
    "Question 19 - Write a Python program to convert a date of yyyy-mm-dd format to dd-mm-yyyy format."
   ]
  },
  {
   "cell_type": "code",
   "execution_count": null,
   "id": "8b6e967c",
   "metadata": {
    "ExecuteTime": {
     "end_time": "2023-07-16T14:55:00.498254Z",
     "start_time": "2023-07-16T14:55:00.478250Z"
    }
   },
   "outputs": [],
   "source": [
    "def Question19():\n",
    "    print(\"Enter the string\")\n",
    "    date = get_input()\n",
    "    try:\n",
    "        pattern = r'^(\\d{4})-(\\d{2})-(\\d{2})$'\n",
    "        match = re.match(pattern, date)\n",
    "\n",
    "        if match:\n",
    "            year = match.group(1)\n",
    "            month = match.group(2)\n",
    "            day = match.group(3)\n",
    "\n",
    "            converted_date = f'{day}-{month}-{year}'\n",
    "            print(converted_date)\n",
    "        else:\n",
    "            return 'Invalid date format. Please use yyyy-mm-dd.'\n",
    "    except Exception as Err:\n",
    "        print('Error:', Err)\n",
    "    else:\n",
    "        return"
   ]
  },
  {
   "cell_type": "markdown",
   "id": "1225bf34",
   "metadata": {
    "ExecuteTime": {
     "end_time": "2023-07-16T14:45:38.905591Z",
     "start_time": "2023-07-16T14:45:31.258069Z"
    }
   },
   "source": [
    "Question 20- Write a Python program to find all words starting with 'a' or 'e' in a given string."
   ]
  },
  {
   "cell_type": "code",
   "execution_count": null,
   "id": "ebaf5d18",
   "metadata": {
    "ExecuteTime": {
     "end_time": "2023-07-16T16:24:34.273251Z",
     "start_time": "2023-07-16T16:24:34.265254Z"
    }
   },
   "outputs": [],
   "source": [
    "def Question20():\n",
    "    print(\"Enter the string\")\n",
    "    text = get_input()\n",
    "    try:\n",
    "        pattern = r'\\b[ae]\\w+\\b'\n",
    "        matches = re.findall(pattern, string)\n",
    "    except Exception as Err:\n",
    "        print(\"Error:\", Err)\n",
    "        \n",
    "    else: \n",
    "        return matches"
   ]
  },
  {
   "cell_type": "markdown",
   "id": "c24dd984",
   "metadata": {},
   "source": [
    "Question 21- Write a Python program to separate and print the numbers and their position of a given string."
   ]
  },
  {
   "cell_type": "code",
   "execution_count": null,
   "id": "71b6bce5",
   "metadata": {
    "ExecuteTime": {
     "end_time": "2023-07-16T16:46:58.581981Z",
     "start_time": "2023-07-16T16:46:58.566977Z"
    }
   },
   "outputs": [],
   "source": [
    "def Question21():\n",
    "    print(\"Enter the string\")\n",
    "    text = get_input()\n",
    "    try:\n",
    "        pattern = r'\\d+'\n",
    "    \n",
    "        matches = re.finditer(pattern, text)\n",
    "        for match in matches:\n",
    "            number = match.group()\n",
    "            position = match.start()\n",
    "            print(f'Number: {number} \\t Position: {position}')\n",
    "    except Exception as Err:\n",
    "        print(Err)\n",
    "    else:\n",
    "        return"
   ]
  },
  {
   "cell_type": "markdown",
   "id": "55186891",
   "metadata": {},
   "source": [
    "Question 22- Write a regular expression in python program to extract maximum numeric value from a string\n"
   ]
  },
  {
   "cell_type": "code",
   "execution_count": null,
   "id": "58171a1a",
   "metadata": {
    "ExecuteTime": {
     "end_time": "2023-07-16T16:50:37.038348Z",
     "start_time": "2023-07-16T16:50:37.024310Z"
    }
   },
   "outputs": [],
   "source": [
    "def Question22():\n",
    "    print(\"Enter the string\")\n",
    "    text = get_input()\n",
    "    \n",
    "    try:\n",
    "        pattern = r'\\d+'\n",
    "\n",
    "        numbers = re.findall(pattern, string)\n",
    "        if numbers:\n",
    "            max_number = max(map(int, numbers))\n",
    "            return max_number\n",
    "        else:\n",
    "            return None\n",
    "    except Exception as Err:\n",
    "        print(Err)\n",
    "    else:\n",
    "        return"
   ]
  },
  {
   "cell_type": "markdown",
   "id": "b7bdd331",
   "metadata": {},
   "source": [
    "\n",
    "Question 23- Write a Regex in Python to put spaces between words starting with capital letters\n"
   ]
  },
  {
   "cell_type": "code",
   "execution_count": null,
   "id": "ad7ef83c",
   "metadata": {
    "ExecuteTime": {
     "end_time": "2023-07-16T16:52:22.716280Z",
     "start_time": "2023-07-16T16:52:22.700280Z"
    }
   },
   "outputs": [],
   "source": [
    "def Question23():   \n",
    "    print(\"Enter the string\")\n",
    "    text = get_input()\n",
    "    try:\n",
    "        pattern = r'(?<!\\s)(?=[A-Z])'\n",
    "        modified_string = re.sub(pattern, ' ', text)\n",
    "    except Exception as Err:\n",
    "        print(Err)\n",
    "    else:\n",
    "        return modified_string"
   ]
  },
  {
   "cell_type": "markdown",
   "id": "146b6cb1",
   "metadata": {
    "ExecuteTime": {
     "end_time": "2023-07-16T16:51:20.544534Z",
     "start_time": "2023-07-16T16:51:20.528541Z"
    }
   },
   "source": [
    "Question 24 - Python regex to find sequences of one upper case letter followed by lower case letters"
   ]
  },
  {
   "cell_type": "code",
   "execution_count": null,
   "id": "aec258cc",
   "metadata": {
    "ExecuteTime": {
     "end_time": "2023-07-16T16:51:28.561015Z",
     "start_time": "2023-07-16T16:51:28.556012Z"
    }
   },
   "outputs": [],
   "source": [
    "def Question24():\n",
    "    print(\"Enter the string\")\n",
    "    text = get_input()\n",
    "    try:\n",
    "        pattern = r'[A-Z][a-z]+'\n",
    "        # [A-Z] - Matches one uppercase letter\n",
    "        # [a-z]+ - Matches one or more lowercase letters\n",
    "\n",
    "        sequences = re.findall(pattern, text)\n",
    "    except Exception as Err:\n",
    "        print(Err)\n",
    "    else:\n",
    "        return sequences"
   ]
  },
  {
   "cell_type": "markdown",
   "id": "c686f64b",
   "metadata": {},
   "source": [
    "Question 25 - Write a Python program to remove duplicate words from Sentence using Regular Expression"
   ]
  },
  {
   "cell_type": "code",
   "execution_count": null,
   "id": "e2c6cd7d",
   "metadata": {
    "ExecuteTime": {
     "end_time": "2023-07-16T16:53:55.191273Z",
     "start_time": "2023-07-16T16:53:55.175272Z"
    }
   },
   "outputs": [],
   "source": [
    "def Question25():\n",
    "    print(\"Enter the string\")\n",
    "    text = get_input()\n",
    "    try:\n",
    "        pattern = r'\\b(\\w+)\\b\\s+(?=.*\\b\\1\\b)'\n",
    "\n",
    "        modified_sentence = re.sub(pattern, '', text)\n",
    "    except Exception as Err:\n",
    "        print(Err)\n",
    "    else:\n",
    "        return modified_sentence.strip()"
   ]
  },
  {
   "cell_type": "markdown",
   "id": "3041880e",
   "metadata": {},
   "source": [
    "Question 26-  Write a python program using RegEx to accept string ending with alphanumeric character."
   ]
  },
  {
   "cell_type": "code",
   "execution_count": null,
   "id": "2c6b7cf7",
   "metadata": {
    "ExecuteTime": {
     "end_time": "2023-07-16T16:56:14.889870Z",
     "start_time": "2023-07-16T16:56:14.872871Z"
    }
   },
   "outputs": [],
   "source": [
    "def Question26(string):\n",
    "    print(\"Enter the string\")\n",
    "    text = get_input()\n",
    "    try:\n",
    "        pattern = r'^.*[a-zA-Z0-9]$'\n",
    "        match = re.match(pattern, string)\n",
    "    except Exception as Err:\n",
    "        print(Err)\n",
    "    else:\n",
    "        return bool(match)"
   ]
  },
  {
   "cell_type": "markdown",
   "id": "5535f714",
   "metadata": {},
   "source": [
    "Question 27-Write a python program using RegEx to extract the hashtags.\n",
    "<br>Sample Text: text = \"\"\"RT @kapil_kausik: #Doltiwal I mean #xyzabc is \"hurt\" by #Demonetization as the same has rendered USELESS <ed><U+00A0><U+00BD><ed><U+00B1><U+0089> \"acquired funds\" No wo\"\"\"\n",
    "<br>Output: ['#Doltiwal', '#xyzabc', '#Demonetization']\n"
   ]
  },
  {
   "cell_type": "code",
   "execution_count": null,
   "id": "739e01f2",
   "metadata": {
    "ExecuteTime": {
     "end_time": "2023-07-16T16:58:33.187657Z",
     "start_time": "2023-07-16T16:58:33.170627Z"
    }
   },
   "outputs": [],
   "source": [
    "def Question27():\n",
    "    print(\"Enter the string\")\n",
    "    text = get_input()\n",
    "    try:\n",
    "        pattern = r'#\\w+'\n",
    "        # # - Matches the '#' character\n",
    "        # \\w+ - Matches one or more word characters (letters, digits, or underscores)\n",
    "\n",
    "        hashtags = re.findall(pattern, text)\n",
    "    except Exception as Err:\n",
    "        print(Err)\n",
    "    else:\n",
    "        return hashtags"
   ]
  },
  {
   "cell_type": "markdown",
   "id": "7eebdcac",
   "metadata": {},
   "source": [
    "Question 28- Write a python program using RegEx to remove <U+..> like symbols\n",
    "<br>Check the below sample text, there are strange symbols something of the sort <U+..> all over the place. You need to come up with a general Regex expression that will cover all such symbols.\n",
    "<br>Sample Text: \"@Jags123456 Bharat band on 28??<ed><U+00A0><U+00BD><ed><U+00B8><U+0082>Those who  are protesting #demonetization  are all different party leaders\"\n",
    "<br>Output: @Jags123456 Bharat band on 28??<ed><ed>Those who  are protesting #demonetization  are all different party leaders\n"
   ]
  },
  {
   "cell_type": "code",
   "execution_count": null,
   "id": "9c545b38",
   "metadata": {
    "ExecuteTime": {
     "end_time": "2023-07-16T16:59:53.343543Z",
     "start_time": "2023-07-16T16:59:53.335513Z"
    }
   },
   "outputs": [],
   "source": [
    "def Question28():\n",
    "    print(\"Enter the string\")\n",
    "    text = get_input()\n",
    "    try:\n",
    "        pattern = r'<U\\+\\w{4}>'\n",
    "        # <U\\+ - Matches the '<U+' literal characters\n",
    "        # \\w{4} - Matches exactly four word characters (alphanumeric or underscore)\n",
    "        # > - Matches the '>' character\n",
    "\n",
    "        cleaned_text = re.sub(pattern, '', text)\n",
    "    except Exception as Err:\n",
    "        print(Err)\n",
    "    else:\n",
    "        return cleaned_text    "
   ]
  },
  {
   "cell_type": "markdown",
   "id": "b48392af",
   "metadata": {},
   "source": [
    "Question 29- Write a python program to extract dates from the text stored in the text file.\n",
    "<br>Sample Text: Ron was born on 12-09-1992 and he was admitted to school 15-12-1999.\n",
    "<br>Store this sample text in the file and then extract dates.\n"
   ]
  },
  {
   "cell_type": "code",
   "execution_count": null,
   "id": "bf12fa3c",
   "metadata": {
    "ExecuteTime": {
     "end_time": "2023-07-16T17:02:35.757165Z",
     "start_time": "2023-07-16T17:02:35.742152Z"
    }
   },
   "outputs": [],
   "source": [
    "def Question29(filename):\n",
    "    with open(filename, 'r') as file:\n",
    "        text = file.read()\n",
    "    \n",
    "    print(\"Enter the string\")\n",
    "    text = get_input()\n",
    "    try:\n",
    "        pattern = r'\\b\\d{2}-\\d{2}-\\d{4}\\b'\n",
    "        dates = re.findall(pattern, text)\n",
    "    except Exception as Err:\n",
    "        print(Err)\n",
    "    else:\n",
    "        return dates  "
   ]
  },
  {
   "cell_type": "markdown",
   "id": "d0309933",
   "metadata": {},
   "source": [
    "Question 30- Write a Python program to replace all occurrences of a space, comma, or dot with a colon.\n",
    "<br>Sample Text- 'Python Exercises, PHP exercises.'\n",
    "<br>Output: Python:Exercises::PHP:exercises:\n"
   ]
  },
  {
   "cell_type": "code",
   "execution_count": null,
   "id": "bb071159",
   "metadata": {
    "ExecuteTime": {
     "end_time": "2023-07-16T17:03:58.200001Z",
     "start_time": "2023-07-16T17:03:58.195011Z"
    }
   },
   "outputs": [],
   "source": [
    "def Question30():\n",
    "    print(\"Enter the string\")\n",
    "    text = get_input()\n",
    "    try:\n",
    "        replaced_text = text.replace(' ', ':').replace(',', ':').replace('.', ':')\n",
    "        return replaced_text\n",
    "    except Exception as Err:\n",
    "        print(Err)\n",
    "    else:\n",
    "        return dates  "
   ]
  },
  {
   "cell_type": "code",
   "execution_count": null,
   "id": "1ef996dc",
   "metadata": {},
   "outputs": [],
   "source": []
  }
 ],
 "metadata": {
  "kernelspec": {
   "display_name": "Python 3",
   "language": "python",
   "name": "python3"
  },
  "language_info": {
   "codemirror_mode": {
    "name": "ipython",
    "version": 3
   },
   "file_extension": ".py",
   "mimetype": "text/x-python",
   "name": "python",
   "nbconvert_exporter": "python",
   "pygments_lexer": "ipython3",
   "version": "3.8.8"
  },
  "toc": {
   "base_numbering": 1,
   "nav_menu": {},
   "number_sections": true,
   "sideBar": true,
   "skip_h1_title": false,
   "title_cell": "Table of Contents",
   "title_sidebar": "Contents",
   "toc_cell": false,
   "toc_position": {},
   "toc_section_display": true,
   "toc_window_display": false
  },
  "varInspector": {
   "cols": {
    "lenName": 16,
    "lenType": 16,
    "lenVar": 40
   },
   "kernels_config": {
    "python": {
     "delete_cmd_postfix": "",
     "delete_cmd_prefix": "del ",
     "library": "var_list.py",
     "varRefreshCmd": "print(var_dic_list())"
    },
    "r": {
     "delete_cmd_postfix": ") ",
     "delete_cmd_prefix": "rm(",
     "library": "var_list.r",
     "varRefreshCmd": "cat(var_dic_list()) "
    }
   },
   "types_to_exclude": [
    "module",
    "function",
    "builtin_function_or_method",
    "instance",
    "_Feature"
   ],
   "window_display": false
  }
 },
 "nbformat": 4,
 "nbformat_minor": 5
}
